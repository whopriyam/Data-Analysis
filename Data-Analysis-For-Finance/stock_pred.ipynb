{
 "cells": [
  {
   "cell_type": "code",
   "execution_count": 2,
   "metadata": {},
   "outputs": [],
   "source": [
    "import quandl\n",
    "import numpy as np\n",
    "from sklearn.linear_model import LinearRegression\n",
    "from sklearn.svm import SVR\n",
    "from sklearn.model_selection import train_test_split"
   ]
  },
  {
   "cell_type": "code",
   "execution_count": 4,
   "metadata": {},
   "outputs": [
    {
     "data": {
      "text/html": [
       "<div>\n",
       "<style scoped>\n",
       "    .dataframe tbody tr th:only-of-type {\n",
       "        vertical-align: middle;\n",
       "    }\n",
       "\n",
       "    .dataframe tbody tr th {\n",
       "        vertical-align: top;\n",
       "    }\n",
       "\n",
       "    .dataframe thead th {\n",
       "        text-align: right;\n",
       "    }\n",
       "</style>\n",
       "<table border=\"1\" class=\"dataframe\">\n",
       "  <thead>\n",
       "    <tr style=\"text-align: right;\">\n",
       "      <th></th>\n",
       "      <th>Open</th>\n",
       "      <th>High</th>\n",
       "      <th>Low</th>\n",
       "      <th>Close</th>\n",
       "      <th>Volume</th>\n",
       "      <th>Ex-Dividend</th>\n",
       "      <th>Split Ratio</th>\n",
       "      <th>Adj. Open</th>\n",
       "      <th>Adj. High</th>\n",
       "      <th>Adj. Low</th>\n",
       "      <th>Adj. Close</th>\n",
       "      <th>Adj. Volume</th>\n",
       "    </tr>\n",
       "    <tr>\n",
       "      <th>Date</th>\n",
       "      <th></th>\n",
       "      <th></th>\n",
       "      <th></th>\n",
       "      <th></th>\n",
       "      <th></th>\n",
       "      <th></th>\n",
       "      <th></th>\n",
       "      <th></th>\n",
       "      <th></th>\n",
       "      <th></th>\n",
       "      <th></th>\n",
       "      <th></th>\n",
       "    </tr>\n",
       "  </thead>\n",
       "  <tbody>\n",
       "    <tr>\n",
       "      <td>2018-03-19</td>\n",
       "      <td>1554.53</td>\n",
       "      <td>1561.66</td>\n",
       "      <td>1525.35</td>\n",
       "      <td>1544.93</td>\n",
       "      <td>6376619.0</td>\n",
       "      <td>0.0</td>\n",
       "      <td>1.0</td>\n",
       "      <td>1554.53</td>\n",
       "      <td>1561.66</td>\n",
       "      <td>1525.35</td>\n",
       "      <td>1544.93</td>\n",
       "      <td>6376619.0</td>\n",
       "    </tr>\n",
       "    <tr>\n",
       "      <td>2018-03-20</td>\n",
       "      <td>1550.34</td>\n",
       "      <td>1587.00</td>\n",
       "      <td>1545.41</td>\n",
       "      <td>1586.51</td>\n",
       "      <td>4507049.0</td>\n",
       "      <td>0.0</td>\n",
       "      <td>1.0</td>\n",
       "      <td>1550.34</td>\n",
       "      <td>1587.00</td>\n",
       "      <td>1545.41</td>\n",
       "      <td>1586.51</td>\n",
       "      <td>4507049.0</td>\n",
       "    </tr>\n",
       "    <tr>\n",
       "      <td>2018-03-21</td>\n",
       "      <td>1586.45</td>\n",
       "      <td>1590.00</td>\n",
       "      <td>1563.17</td>\n",
       "      <td>1581.86</td>\n",
       "      <td>4667291.0</td>\n",
       "      <td>0.0</td>\n",
       "      <td>1.0</td>\n",
       "      <td>1586.45</td>\n",
       "      <td>1590.00</td>\n",
       "      <td>1563.17</td>\n",
       "      <td>1581.86</td>\n",
       "      <td>4667291.0</td>\n",
       "    </tr>\n",
       "    <tr>\n",
       "      <td>2018-03-22</td>\n",
       "      <td>1565.47</td>\n",
       "      <td>1573.85</td>\n",
       "      <td>1542.40</td>\n",
       "      <td>1544.10</td>\n",
       "      <td>6177737.0</td>\n",
       "      <td>0.0</td>\n",
       "      <td>1.0</td>\n",
       "      <td>1565.47</td>\n",
       "      <td>1573.85</td>\n",
       "      <td>1542.40</td>\n",
       "      <td>1544.10</td>\n",
       "      <td>6177737.0</td>\n",
       "    </tr>\n",
       "    <tr>\n",
       "      <td>2018-03-23</td>\n",
       "      <td>1539.01</td>\n",
       "      <td>1549.02</td>\n",
       "      <td>1495.36</td>\n",
       "      <td>1495.56</td>\n",
       "      <td>7843966.0</td>\n",
       "      <td>0.0</td>\n",
       "      <td>1.0</td>\n",
       "      <td>1539.01</td>\n",
       "      <td>1549.02</td>\n",
       "      <td>1495.36</td>\n",
       "      <td>1495.56</td>\n",
       "      <td>7843966.0</td>\n",
       "    </tr>\n",
       "    <tr>\n",
       "      <td>2018-03-26</td>\n",
       "      <td>1530.00</td>\n",
       "      <td>1556.99</td>\n",
       "      <td>1499.25</td>\n",
       "      <td>1555.86</td>\n",
       "      <td>5547618.0</td>\n",
       "      <td>0.0</td>\n",
       "      <td>1.0</td>\n",
       "      <td>1530.00</td>\n",
       "      <td>1556.99</td>\n",
       "      <td>1499.25</td>\n",
       "      <td>1555.86</td>\n",
       "      <td>5547618.0</td>\n",
       "    </tr>\n",
       "    <tr>\n",
       "      <td>2018-03-27</td>\n",
       "      <td>1572.40</td>\n",
       "      <td>1575.96</td>\n",
       "      <td>1482.32</td>\n",
       "      <td>1497.05</td>\n",
       "      <td>6793279.0</td>\n",
       "      <td>0.0</td>\n",
       "      <td>1.0</td>\n",
       "      <td>1572.40</td>\n",
       "      <td>1575.96</td>\n",
       "      <td>1482.32</td>\n",
       "      <td>1497.05</td>\n",
       "      <td>6793279.0</td>\n",
       "    </tr>\n",
       "  </tbody>\n",
       "</table>\n",
       "</div>"
      ],
      "text/plain": [
       "               Open     High      Low    Close     Volume  Ex-Dividend  \\\n",
       "Date                                                                     \n",
       "2018-03-19  1554.53  1561.66  1525.35  1544.93  6376619.0          0.0   \n",
       "2018-03-20  1550.34  1587.00  1545.41  1586.51  4507049.0          0.0   \n",
       "2018-03-21  1586.45  1590.00  1563.17  1581.86  4667291.0          0.0   \n",
       "2018-03-22  1565.47  1573.85  1542.40  1544.10  6177737.0          0.0   \n",
       "2018-03-23  1539.01  1549.02  1495.36  1495.56  7843966.0          0.0   \n",
       "2018-03-26  1530.00  1556.99  1499.25  1555.86  5547618.0          0.0   \n",
       "2018-03-27  1572.40  1575.96  1482.32  1497.05  6793279.0          0.0   \n",
       "\n",
       "            Split Ratio  Adj. Open  Adj. High  Adj. Low  Adj. Close  \\\n",
       "Date                                                                  \n",
       "2018-03-19          1.0    1554.53    1561.66   1525.35     1544.93   \n",
       "2018-03-20          1.0    1550.34    1587.00   1545.41     1586.51   \n",
       "2018-03-21          1.0    1586.45    1590.00   1563.17     1581.86   \n",
       "2018-03-22          1.0    1565.47    1573.85   1542.40     1544.10   \n",
       "2018-03-23          1.0    1539.01    1549.02   1495.36     1495.56   \n",
       "2018-03-26          1.0    1530.00    1556.99   1499.25     1555.86   \n",
       "2018-03-27          1.0    1572.40    1575.96   1482.32     1497.05   \n",
       "\n",
       "            Adj. Volume  \n",
       "Date                     \n",
       "2018-03-19    6376619.0  \n",
       "2018-03-20    4507049.0  \n",
       "2018-03-21    4667291.0  \n",
       "2018-03-22    6177737.0  \n",
       "2018-03-23    7843966.0  \n",
       "2018-03-26    5547618.0  \n",
       "2018-03-27    6793279.0  "
      ]
     },
     "execution_count": 4,
     "metadata": {},
     "output_type": "execute_result"
    }
   ],
   "source": [
    "amazon = quandl.get(\"WIKI/AMZN\")\n",
    "amazon.tail(7)"
   ]
  },
  {
   "cell_type": "code",
   "execution_count": 6,
   "metadata": {},
   "outputs": [
    {
     "data": {
      "text/html": [
       "<div>\n",
       "<style scoped>\n",
       "    .dataframe tbody tr th:only-of-type {\n",
       "        vertical-align: middle;\n",
       "    }\n",
       "\n",
       "    .dataframe tbody tr th {\n",
       "        vertical-align: top;\n",
       "    }\n",
       "\n",
       "    .dataframe thead th {\n",
       "        text-align: right;\n",
       "    }\n",
       "</style>\n",
       "<table border=\"1\" class=\"dataframe\">\n",
       "  <thead>\n",
       "    <tr style=\"text-align: right;\">\n",
       "      <th></th>\n",
       "      <th>Adj. Close</th>\n",
       "    </tr>\n",
       "    <tr>\n",
       "      <th>Date</th>\n",
       "      <th></th>\n",
       "    </tr>\n",
       "  </thead>\n",
       "  <tbody>\n",
       "    <tr>\n",
       "      <td>2018-03-19</td>\n",
       "      <td>1544.93</td>\n",
       "    </tr>\n",
       "    <tr>\n",
       "      <td>2018-03-20</td>\n",
       "      <td>1586.51</td>\n",
       "    </tr>\n",
       "    <tr>\n",
       "      <td>2018-03-21</td>\n",
       "      <td>1581.86</td>\n",
       "    </tr>\n",
       "    <tr>\n",
       "      <td>2018-03-22</td>\n",
       "      <td>1544.10</td>\n",
       "    </tr>\n",
       "    <tr>\n",
       "      <td>2018-03-23</td>\n",
       "      <td>1495.56</td>\n",
       "    </tr>\n",
       "    <tr>\n",
       "      <td>2018-03-26</td>\n",
       "      <td>1555.86</td>\n",
       "    </tr>\n",
       "    <tr>\n",
       "      <td>2018-03-27</td>\n",
       "      <td>1497.05</td>\n",
       "    </tr>\n",
       "  </tbody>\n",
       "</table>\n",
       "</div>"
      ],
      "text/plain": [
       "            Adj. Close\n",
       "Date                  \n",
       "2018-03-19     1544.93\n",
       "2018-03-20     1586.51\n",
       "2018-03-21     1581.86\n",
       "2018-03-22     1544.10\n",
       "2018-03-23     1495.56\n",
       "2018-03-26     1555.86\n",
       "2018-03-27     1497.05"
      ]
     },
     "execution_count": 6,
     "metadata": {},
     "output_type": "execute_result"
    }
   ],
   "source": [
    "amazon = amazon[['Adj. Close']]\n",
    "amazon.tail(7)"
   ]
  },
  {
   "cell_type": "code",
   "execution_count": 13,
   "metadata": {},
   "outputs": [
    {
     "data": {
      "text/html": [
       "<div>\n",
       "<style scoped>\n",
       "    .dataframe tbody tr th:only-of-type {\n",
       "        vertical-align: middle;\n",
       "    }\n",
       "\n",
       "    .dataframe tbody tr th {\n",
       "        vertical-align: top;\n",
       "    }\n",
       "\n",
       "    .dataframe thead th {\n",
       "        text-align: right;\n",
       "    }\n",
       "</style>\n",
       "<table border=\"1\" class=\"dataframe\">\n",
       "  <thead>\n",
       "    <tr style=\"text-align: right;\">\n",
       "      <th></th>\n",
       "      <th>Adj. Close</th>\n",
       "      <th>Predicted</th>\n",
       "    </tr>\n",
       "    <tr>\n",
       "      <th>Date</th>\n",
       "      <th></th>\n",
       "      <th></th>\n",
       "    </tr>\n",
       "  </thead>\n",
       "  <tbody>\n",
       "    <tr>\n",
       "      <td>1997-05-16</td>\n",
       "      <td>1.729167</td>\n",
       "      <td>1.541667</td>\n",
       "    </tr>\n",
       "    <tr>\n",
       "      <td>1997-05-19</td>\n",
       "      <td>1.708333</td>\n",
       "      <td>1.515833</td>\n",
       "    </tr>\n",
       "    <tr>\n",
       "      <td>1997-05-20</td>\n",
       "      <td>1.635833</td>\n",
       "      <td>1.588333</td>\n",
       "    </tr>\n",
       "    <tr>\n",
       "      <td>1997-05-21</td>\n",
       "      <td>1.427500</td>\n",
       "      <td>1.911667</td>\n",
       "    </tr>\n",
       "    <tr>\n",
       "      <td>1997-05-22</td>\n",
       "      <td>1.395833</td>\n",
       "      <td>2.000000</td>\n",
       "    </tr>\n",
       "    <tr>\n",
       "      <td>...</td>\n",
       "      <td>...</td>\n",
       "      <td>...</td>\n",
       "    </tr>\n",
       "    <tr>\n",
       "      <td>2018-03-21</td>\n",
       "      <td>1581.860000</td>\n",
       "      <td>NaN</td>\n",
       "    </tr>\n",
       "    <tr>\n",
       "      <td>2018-03-22</td>\n",
       "      <td>1544.100000</td>\n",
       "      <td>NaN</td>\n",
       "    </tr>\n",
       "    <tr>\n",
       "      <td>2018-03-23</td>\n",
       "      <td>1495.560000</td>\n",
       "      <td>NaN</td>\n",
       "    </tr>\n",
       "    <tr>\n",
       "      <td>2018-03-26</td>\n",
       "      <td>1555.860000</td>\n",
       "      <td>NaN</td>\n",
       "    </tr>\n",
       "    <tr>\n",
       "      <td>2018-03-27</td>\n",
       "      <td>1497.050000</td>\n",
       "      <td>NaN</td>\n",
       "    </tr>\n",
       "  </tbody>\n",
       "</table>\n",
       "<p>5248 rows × 2 columns</p>\n",
       "</div>"
      ],
      "text/plain": [
       "             Adj. Close  Predicted\n",
       "Date                              \n",
       "1997-05-16     1.729167   1.541667\n",
       "1997-05-19     1.708333   1.515833\n",
       "1997-05-20     1.635833   1.588333\n",
       "1997-05-21     1.427500   1.911667\n",
       "1997-05-22     1.395833   2.000000\n",
       "...                 ...        ...\n",
       "2018-03-21  1581.860000        NaN\n",
       "2018-03-22  1544.100000        NaN\n",
       "2018-03-23  1495.560000        NaN\n",
       "2018-03-26  1555.860000        NaN\n",
       "2018-03-27  1497.050000        NaN\n",
       "\n",
       "[5248 rows x 2 columns]"
      ]
     },
     "execution_count": 13,
     "metadata": {},
     "output_type": "execute_result"
    }
   ],
   "source": [
    "forecast_len = 30\n",
    "amazon['Predicted'] = amazon[['Adj. Close']].shift(- forecast_len)\n",
    "amazon"
   ]
  },
  {
   "cell_type": "code",
   "execution_count": 15,
   "metadata": {},
   "outputs": [
    {
     "name": "stdout",
     "output_type": "stream",
     "text": [
      "[[   1.72916667]\n",
      " [   1.70833333]\n",
      " [   1.63583333]\n",
      " ...\n",
      " [1350.47      ]\n",
      " [1338.99      ]\n",
      " [1386.23      ]]\n"
     ]
    }
   ],
   "source": [
    "x = np.array(amazon.drop(['Predicted'],1))\n",
    "x = x[:-forecast_len]\n",
    "print(x)"
   ]
  },
  {
   "cell_type": "code",
   "execution_count": 16,
   "metadata": {},
   "outputs": [
    {
     "name": "stdout",
     "output_type": "stream",
     "text": [
      "[1.54166667e+00 1.51583333e+00 1.58833333e+00 ... 1.49556000e+03\n",
      " 1.55586000e+03 1.49705000e+03]\n"
     ]
    }
   ],
   "source": [
    "y = np.array(amazon['Predicted'])\n",
    "y = y[:-forecast_len]\n",
    "print(y)"
   ]
  },
  {
   "cell_type": "code",
   "execution_count": 17,
   "metadata": {},
   "outputs": [],
   "source": [
    "x_train,x_test,y_train,y_test=train_test_split(x,y,test_size=0.2)"
   ]
  },
  {
   "cell_type": "code",
   "execution_count": 19,
   "metadata": {},
   "outputs": [
    {
     "data": {
      "text/plain": [
       "SVR(C=1000.0, cache_size=200, coef0=0.0, degree=3, epsilon=0.1, gamma=0.1,\n",
       "    kernel='rbf', max_iter=-1, shrinking=True, tol=0.001, verbose=False)"
      ]
     },
     "execution_count": 19,
     "metadata": {},
     "output_type": "execute_result"
    }
   ],
   "source": [
    "svr_rbf = SVR(kernel='rbf',C=1e3,gamma=0.1)\n",
    "svr_rbf.fit(x_train,y_train)"
   ]
  },
  {
   "cell_type": "code",
   "execution_count": 20,
   "metadata": {},
   "outputs": [
    {
     "name": "stdout",
     "output_type": "stream",
     "text": [
      "SVR Confidence: 92.31%\n"
     ]
    }
   ],
   "source": [
    "svr_rbf_confidence=svr_rbf.score(x_test,y_test)\n",
    "print(f\"SVR Confidence: {round(svr_rbf_confidence*100,2)}%\")"
   ]
  },
  {
   "cell_type": "code",
   "execution_count": 21,
   "metadata": {},
   "outputs": [
    {
     "data": {
      "text/plain": [
       "LinearRegression(copy_X=True, fit_intercept=True, n_jobs=None, normalize=False)"
      ]
     },
     "execution_count": 21,
     "metadata": {},
     "output_type": "execute_result"
    }
   ],
   "source": [
    "lr=LinearRegression()\n",
    "lr.fit(x_train,y_train)"
   ]
  },
  {
   "cell_type": "code",
   "execution_count": 22,
   "metadata": {},
   "outputs": [
    {
     "name": "stdout",
     "output_type": "stream",
     "text": [
      "Linear Regression Confidence: 98.7%\n"
     ]
    }
   ],
   "source": [
    "lr_confidence=lr.score(x_test,y_test)\n",
    "print(f\"Linear Regression Confidence: {round(lr_confidence*100,2)}%\")"
   ]
  },
  {
   "cell_type": "code",
   "execution_count": null,
   "metadata": {},
   "outputs": [],
   "source": []
  }
 ],
 "metadata": {
  "kernelspec": {
   "display_name": "Python 3",
   "language": "python",
   "name": "python3"
  },
  "language_info": {
   "codemirror_mode": {
    "name": "ipython",
    "version": 3
   },
   "file_extension": ".py",
   "mimetype": "text/x-python",
   "name": "python",
   "nbconvert_exporter": "python",
   "pygments_lexer": "ipython3",
   "version": "3.7.7"
  }
 },
 "nbformat": 4,
 "nbformat_minor": 4
}
